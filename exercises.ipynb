{
 "cells": [
  {
   "cell_type": "markdown",
   "id": "76ad444f",
   "metadata": {},
   "source": [
    "<font color='darkred'> Unless otherwise noted, **this notebook will not be reviewed or autograded.**</font> You are welcome to use it for scratchwork, but **only the files listed in the exercises will be checked.**\n",
    "\n",
    "---\n",
    "\n",
    "# Exercises\n",
    "\n",
    "For these exercises, add your functions to the *apputil\\.py* file. If you like, you're welcome to adjust the *app\\.py* file, but it is not required.\n",
    "\n",
    "## Exercise 1\n",
    "\n",
    "Create a function `palindrome(word)` that receives a string and returns `True` or `False` depending on whether it is a palindrome.  A palindrome is a word, phrase, or sequence that reads the same backward as forward. Examples of palindromes are `racecar` and `Nurses Run`. This function can be case *insensitive*, and it should ignore spaces and punctuation.\n",
    "\n",
    "- Take a look at the `.lower()` and `.replace(\",\")` methods on a string.\n",
    "- Think about how you can reverse a string\n",
    "\n",
    "**A few test cases:**\n",
    "\n",
    "- `racecar`\n",
    "- `Nurses Run`\n",
    "- `Sit on a potato pan, Otis.`"
   ]
  },
  {
   "cell_type": "code",
   "execution_count": null,
   "id": "f42fa540",
   "metadata": {},
   "outputs": [],
   "source": []
  },
  {
   "cell_type": "code",
   "execution_count": null,
   "id": "dd7b220d",
   "metadata": {},
   "outputs": [
    {
     "data": {
      "text/plain": [
       "True"
      ]
     },
     "execution_count": 18,
     "metadata": {},
     "output_type": "execute_result"
    }
   ],
   "source": [
    "#Author: Bella Roberson\n",
    "#Date: 2025-09-01\n",
    "#INFO-H501 Week 1 Exercise 1\n",
    "def palindrome(word): #creates function to check if statement is a palindrome or contains palindromic words\n",
    "    lower_statement = word.lower() #converts statement to lowercase\n",
    "    cleaned = ''.join(char for char in lower_statement if char.isalnum()) #removeds spaces and punctuation\n",
    "    if cleaned == cleaned[::-1]: #checks if cleaned statement is a palindrome (reads the same forwards and backwards)\n",
    "        return True #returns this if it is a palindrome\n",
    "    else: #if it is not a palindrome, checks for palindromic words\n",
    "        palindromes = [] #creates list to store palindromic words\n",
    "        for string in lower_statement.split(): #splits statement into words and checks each word through iteration\n",
    "            cleaned_word = ''.join(char for char in string if char.isalnum()) #removes spaces and punctuation from each individual word\n",
    "            if cleaned_word == cleaned_word[::-1] and len(cleaned_word) > 1: #checks if cleaned word reads the same forwards and backwards and has more than 1 character\n",
    "                palindromes.append(cleaned_word) #adds palindromic word to list if above is true\n",
    "        if len(palindromes) == 0: #checks if there are no palindromic words in the list to return appropriate message\n",
    "            return False\n",
    "            # return \"Your statement isn't a palindrome, and there are no palindromic words in the statement.\"\n",
    "        else: #if there are palindromic words in the list, returns them with proper message\n",
    "            return False\n",
    "            #return \"Your statement isn't a palindrome, but the following words in the statement are!: \" + str(palindromes)\n",
    "\n",
    "#Test cases\n",
    "#palindrome(\"racecar\")\n",
    "#palindrome(\"Nurses run\")\n",
    "#palindrome(\"Sit on a potato pan, Otis\")\n",
    "\n",
    "#Palindrome statement:\n",
    "#print(palindrome(\"Was it a car or a cat I saw?\"))\n",
    "\n",
    "#Non-palindrome statement with palindromic words:\n",
    "#print(palindrome(\"Racecar are fast\"))\n",
    "\n",
    "#Non-palindrome statement without palindromic words:\n",
    "#print(palindrome(\"Hello world\"))\n"
   ]
  },
  {
   "cell_type": "markdown",
   "id": "d6d15685",
   "metadata": {},
   "source": [
    "## exercise 2\n",
    "\n",
    "In programming languages, and especially in [LISP](https://en.wikipedia.org/wiki/Lisp_(programming_language)), there can be a lot of parentheses. The parentheses have to be \"balanced\" to be valid. For example, `()(())` is balanced, but `()())` is not balanced. Also, `)((())` is not balanced. (Think mathematics.)\n",
    "\n",
    "Write a function `parentheses(sequence)` that takes a string and returns `True` if the string's parentheses are balanced, `False` if they are not.\n",
    "\n",
    "*Once you are finished, see if you can come up with a second way to solve the problem.*\n",
    "\n",
    "> Give [Python Tutor](https://pythontutor.com/) a try this week! It can be a helpful tool for debugging Python :).\n",
    "\n",
    "**Test Cases:**\n",
    "\n",
    " * `((blah)()()())` should return `True`\n",
    " * `(((())blee))` should return `True`\n",
    " * `(()hello((())()))` should return `True`\n",
    " * `((((((())` should return `False`\n",
    " * `()))` should return `False`"
   ]
  },
  {
   "cell_type": "code",
   "execution_count": null,
   "id": "396c9c08",
   "metadata": {},
   "outputs": [
    {
     "data": {
      "text/plain": [
       "False"
      ]
     },
     "execution_count": 19,
     "metadata": {},
     "output_type": "execute_result"
    }
   ],
   "source": [
    "#Author: Bella Roberson\n",
    "#Date: 2025-09-01\n",
    "#INFO-H501 Week 1 Exercise 2\n",
    "def parentheses(sequence): #creates function to check if parentheses are balanced\n",
    "    count = 0 #creates counter variable to keep track of parentheses\n",
    "    for char in sequence: #iterates through each character in the inputted sequence\n",
    "        if char == '(': #if character is an opening parenthesis, adds 1 to counter\n",
    "            count += 1\n",
    "        elif char == ')': #if character is a closing parenthesis, subtracts 1 from counter\n",
    "            count -= 1\n",
    "    return count == 0 #if counter is 0 (not greater than or less than 0), parentheses are balanced and returns True. If counter is not 0, parentheses are not balanced and returns False.\n",
    "    \n",
    "    #if count < 0: #if counter is negative, there are more closing parentheses than opening parentheses. Returns message with number of missing closing parentheses.\n",
    "    #    return \"You are missing \" + str(abs(count)) + \" closing parentheses to make you parentheses balanced.\"\n",
    "    #elif count > 0: #if counter is positive, there are more opening parentheses than closing parentheses. Returns message with number of missing opening parentheses.\n",
    "    #    return \"You are missing \" + str(count) + \" opening parentheses to make your parentheses balanced.\"\n",
    "    #else: #if counter is 0 (not greater than or less than 0), parentheses are balanced. Returns appropriate message.\n",
    "    #    return \"Your parentheses are balanced!\"\n",
    "\n",
    "# Example test cases\n",
    "#parentheses(\"((blah)()()())\")     # True\n",
    "#parentheses(\"(((())blee))\")      # True\n",
    "#parentheses(\"(()hello((())()))\")   # True\n",
    "#parentheses(\"((((((())\")        # False\n",
    "#parentheses(\"()))\")                # False"
   ]
  }
 ],
 "metadata": {
  "kernelspec": {
   "display_name": "base",
   "language": "python",
   "name": "python3"
  },
  "language_info": {
   "codemirror_mode": {
    "name": "ipython",
    "version": 3
   },
   "file_extension": ".py",
   "mimetype": "text/x-python",
   "name": "python",
   "nbconvert_exporter": "python",
   "pygments_lexer": "ipython3",
   "version": "3.11.11"
  }
 },
 "nbformat": 4,
 "nbformat_minor": 5
}
